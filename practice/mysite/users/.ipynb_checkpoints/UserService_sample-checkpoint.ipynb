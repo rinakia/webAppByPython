{
 "cells": [
  {
   "cell_type": "code",
   "execution_count": null,
   "metadata": {},
   "outputs": [],
   "source": []
  },
  {
   "cell_type": "code",
   "execution_count": 111,
   "metadata": {},
   "outputs": [],
   "source": [
    "# transaction manager\n",
    "\n",
    "import TransactionManagerByPostgres as tmbp\n",
    "import UserDAO as dao\n",
    "import UserDTO as dto\n"
   ]
  },
  {
   "cell_type": "code",
   "execution_count": 112,
   "metadata": {},
   "outputs": [],
   "source": [
    "# アトリビュート値 user\n",
    "def makeAttrFromDTO(request, dto1:dto.UserDTO):\n",
    "    user = {}\n",
    "    if hasattr(userDTO, \"_UserDTO__userNum\" ):\n",
    "        request.session['user_num'] = userDTO.getNum()\n",
    "        # user['user_num'] = userDTO.getNum()\n",
    "    if hasattr(userDTO, \"_UserDTO__userId\" ):\n",
    "        request.session['user_id'] = userDTO.getId()\n",
    "        # user['user_id'] = userDTO.getId()\n",
    "    if hasattr(userDTO, \"_UserDTO__name\" ):\n",
    "        request.session['user_name'] = userDTO.getName()\n",
    "        # user['user_name'] = userDTO.getName()\n",
    "    if hasattr(userDTO, \"_UserDTO__password\" ):\n",
    "        request.session['user_pass'] = userDTO.getPass()\n",
    "        # user['user_pass'] = userDTO.getPass()\n",
    "    if hasattr(userDTO, \"_UserDTO__auth\" ):\n",
    "        request.session['user_auth'] = userDTO.getAuth()\n",
    "        # user['user_auth'] = userDTO.getAuth()\n",
    "    if hasattr(userDTO, \"_UserDTO__gender\" ):\n",
    "        request.session['user_gender'] = userDTO.getGender()\n",
    "        # user['user_gender'] = userDTO.getGender()\n",
    "    if hasattr(userDTO, \"_UserDTO__mail\" ):\n",
    "        request.session['user_mail'] = userDTO.getMail()\n",
    "        # user['user_mail'] = userDTO.getMail()\n",
    "    return request\n",
    "    # return user\n"
   ]
  },
  {
   "cell_type": "code",
   "execution_count": 113,
   "metadata": {},
   "outputs": [],
   "source": [
    "# ユーザログイン認証\n",
    "def loginCheck(request, userId, password):\n",
    "    tm = tmbp.TransactionManagerByPostgres()\n",
    "    conn = tm.getConnection()\n",
    "    userDAO = dao.UserDAO(conn)\n",
    "    userDTO = userDAO.getUserById(userId)\n",
    "    # id存在チェック\n",
    "    if not hasattr(userDTO, \"_UserDTO__userId\" ):\n",
    "        # print(\"存在しないユーザIDチェック id: \" + userId)\n",
    "        # raise IdExistError(\"存在しないユーザIDです\")\n",
    "        messageE = \"存在しないユーザIDです\"\n",
    "        return messageE\n",
    "    # パスワード認証チェック\n",
    "    elif(userDTO.getPass() != password):\n",
    "        # print(\"一致しないパスワードチェック id: \" + userId)\n",
    "        # raise PassCheckError(\"パスワードが異なります\")\n",
    "        messageE = \"パスワードが異なります\"\n",
    "        return messageE\n",
    "    else:\n",
    "        userDTO.setPass(None)\n",
    "        request = makeAttrFromDTO(request, userDTO)\n",
    "        return request"
   ]
  },
  {
   "cell_type": "code",
   "execution_count": 120,
   "metadata": {},
   "outputs": [
    {
     "ename": "AttributeError",
     "evalue": "'NoneType' object has no attribute 'session'",
     "output_type": "error",
     "traceback": [
      "\u001b[0;31m---------------------------------------------------------------------------\u001b[0m",
      "\u001b[0;31mAttributeError\u001b[0m                            Traceback (most recent call last)",
      "\u001b[0;32m<ipython-input-120-17792c0dc5c6>\u001b[0m in \u001b[0;36m<module>\u001b[0;34m\u001b[0m\n\u001b[1;32m      2\u001b[0m     \u001b[0msession\u001b[0m \u001b[0;34m=\u001b[0m \u001b[0;34m{\u001b[0m\u001b[0;34m'a'\u001b[0m\u001b[0;34m:\u001b[0m \u001b[0;34m\"abc\"\u001b[0m\u001b[0;34m,\u001b[0m\u001b[0;34m}\u001b[0m\u001b[0;34m\u001b[0m\u001b[0;34m\u001b[0m\u001b[0m\n\u001b[1;32m      3\u001b[0m \u001b[0mrequest\u001b[0m \u001b[0;34m=\u001b[0m \u001b[0mrequest\u001b[0m\u001b[0;34m(\u001b[0m\u001b[0;34m)\u001b[0m\u001b[0;34m\u001b[0m\u001b[0;34m\u001b[0m\u001b[0m\n\u001b[0;32m----> 4\u001b[0;31m \u001b[0mrequest\u001b[0m\u001b[0;34m.\u001b[0m\u001b[0msession\u001b[0m\u001b[0;34m\u001b[0m\u001b[0;34m\u001b[0m\u001b[0m\n\u001b[0m\u001b[1;32m      5\u001b[0m \u001b[0;31m# print(request.session['a'])\u001b[0m\u001b[0;34m\u001b[0m\u001b[0;34m\u001b[0m\u001b[0;34m\u001b[0m\u001b[0m\n",
      "\u001b[0;31mAttributeError\u001b[0m: 'NoneType' object has no attribute 'session'"
     ]
    }
   ],
   "source": [
    "def request():\n",
    "    session = {'a': \"abc\",}\n",
    "request = request()\n",
    "# request.session\n",
    "# print(request.session['a'])"
   ]
  },
  {
   "cell_type": "code",
   "execution_count": 115,
   "metadata": {},
   "outputs": [
    {
     "name": "stdout",
     "output_type": "stream",
     "text": [
      "存在しないユーザIDです\n",
      "パスワードが異なります\n"
     ]
    }
   ],
   "source": [
    "messageE = loginCheck(request, \"test10\",\"testPass1\")\n",
    "print(messageE)\n",
    "messageE = loginCheck(request, \"test1\",\"testPass100\")\n",
    "print(messageE)"
   ]
  },
  {
   "cell_type": "code",
   "execution_count": 116,
   "metadata": {},
   "outputs": [
    {
     "ename": "AttributeError",
     "evalue": "'NoneType' object has no attribute 'session'",
     "output_type": "error",
     "traceback": [
      "\u001b[0;31m---------------------------------------------------------------------------\u001b[0m",
      "\u001b[0;31mAttributeError\u001b[0m                            Traceback (most recent call last)",
      "\u001b[0;32m<ipython-input-116-5b3cd70ed589>\u001b[0m in \u001b[0;36m<module>\u001b[0;34m\u001b[0m\n\u001b[0;32m----> 1\u001b[0;31m \u001b[0muserDTO\u001b[0m \u001b[0;34m=\u001b[0m \u001b[0mloginCheck\u001b[0m\u001b[0;34m(\u001b[0m\u001b[0mrequest\u001b[0m\u001b[0;34m,\u001b[0m \u001b[0;34m\"test1\"\u001b[0m\u001b[0;34m,\u001b[0m\u001b[0;34m\"testPass1\"\u001b[0m\u001b[0;34m)\u001b[0m\u001b[0;34m\u001b[0m\u001b[0;34m\u001b[0m\u001b[0m\n\u001b[0m\u001b[1;32m      2\u001b[0m \u001b[0mprint\u001b[0m\u001b[0;34m(\u001b[0m\u001b[0muserDTO\u001b[0m\u001b[0;34m.\u001b[0m\u001b[0mgetName\u001b[0m\u001b[0;34m(\u001b[0m\u001b[0;34m)\u001b[0m\u001b[0;34m)\u001b[0m\u001b[0;34m\u001b[0m\u001b[0;34m\u001b[0m\u001b[0m\n\u001b[1;32m      3\u001b[0m \u001b[0mprint\u001b[0m\u001b[0;34m(\u001b[0m\u001b[0muserDTO\u001b[0m\u001b[0;34m.\u001b[0m\u001b[0mgetPass\u001b[0m\u001b[0;34m(\u001b[0m\u001b[0;34m)\u001b[0m\u001b[0;34m)\u001b[0m\u001b[0;34m\u001b[0m\u001b[0;34m\u001b[0m\u001b[0m\n",
      "\u001b[0;32m<ipython-input-113-f2ee150d4ede>\u001b[0m in \u001b[0;36mloginCheck\u001b[0;34m(request, userId, password)\u001b[0m\n\u001b[1;32m     19\u001b[0m     \u001b[0;32melse\u001b[0m\u001b[0;34m:\u001b[0m\u001b[0;34m\u001b[0m\u001b[0;34m\u001b[0m\u001b[0m\n\u001b[1;32m     20\u001b[0m         \u001b[0muserDTO\u001b[0m\u001b[0;34m.\u001b[0m\u001b[0msetPass\u001b[0m\u001b[0;34m(\u001b[0m\u001b[0;32mNone\u001b[0m\u001b[0;34m)\u001b[0m\u001b[0;34m\u001b[0m\u001b[0;34m\u001b[0m\u001b[0m\n\u001b[0;32m---> 21\u001b[0;31m         \u001b[0mrequest\u001b[0m \u001b[0;34m=\u001b[0m \u001b[0mmakeAttrFromDTO\u001b[0m\u001b[0;34m(\u001b[0m\u001b[0mrequest\u001b[0m\u001b[0;34m,\u001b[0m \u001b[0muserDTO\u001b[0m\u001b[0;34m)\u001b[0m\u001b[0;34m\u001b[0m\u001b[0;34m\u001b[0m\u001b[0m\n\u001b[0m\u001b[1;32m     22\u001b[0m         \u001b[0;32mreturn\u001b[0m \u001b[0mrequest\u001b[0m\u001b[0;34m\u001b[0m\u001b[0;34m\u001b[0m\u001b[0m\n",
      "\u001b[0;32m<ipython-input-112-f9054119a86c>\u001b[0m in \u001b[0;36mmakeAttrFromDTO\u001b[0;34m(request, dto1)\u001b[0m\n\u001b[1;32m      3\u001b[0m     \u001b[0muser\u001b[0m \u001b[0;34m=\u001b[0m \u001b[0;34m{\u001b[0m\u001b[0;34m}\u001b[0m\u001b[0;34m\u001b[0m\u001b[0;34m\u001b[0m\u001b[0m\n\u001b[1;32m      4\u001b[0m     \u001b[0;32mif\u001b[0m \u001b[0mhasattr\u001b[0m\u001b[0;34m(\u001b[0m\u001b[0muserDTO\u001b[0m\u001b[0;34m,\u001b[0m \u001b[0;34m\"_UserDTO__userNum\"\u001b[0m \u001b[0;34m)\u001b[0m\u001b[0;34m:\u001b[0m\u001b[0;34m\u001b[0m\u001b[0;34m\u001b[0m\u001b[0m\n\u001b[0;32m----> 5\u001b[0;31m         \u001b[0mrequest\u001b[0m\u001b[0;34m.\u001b[0m\u001b[0msession\u001b[0m\u001b[0;34m[\u001b[0m\u001b[0;34m'user_num'\u001b[0m\u001b[0;34m]\u001b[0m \u001b[0;34m=\u001b[0m \u001b[0muserDTO\u001b[0m\u001b[0;34m.\u001b[0m\u001b[0mgetNum\u001b[0m\u001b[0;34m(\u001b[0m\u001b[0;34m)\u001b[0m\u001b[0;34m\u001b[0m\u001b[0;34m\u001b[0m\u001b[0m\n\u001b[0m\u001b[1;32m      6\u001b[0m         \u001b[0;31m# user['user_num'] = userDTO.getNum()\u001b[0m\u001b[0;34m\u001b[0m\u001b[0;34m\u001b[0m\u001b[0;34m\u001b[0m\u001b[0m\n\u001b[1;32m      7\u001b[0m     \u001b[0;32mif\u001b[0m \u001b[0mhasattr\u001b[0m\u001b[0;34m(\u001b[0m\u001b[0muserDTO\u001b[0m\u001b[0;34m,\u001b[0m \u001b[0;34m\"_UserDTO__userId\"\u001b[0m \u001b[0;34m)\u001b[0m\u001b[0;34m:\u001b[0m\u001b[0;34m\u001b[0m\u001b[0;34m\u001b[0m\u001b[0m\n",
      "\u001b[0;31mAttributeError\u001b[0m: 'NoneType' object has no attribute 'session'"
     ]
    }
   ],
   "source": [
    "userDTO = loginCheck(request, \"test1\",\"testPass1\")\n",
    "print(userDTO.getName())\n",
    "print(userDTO.getPass())"
   ]
  },
  {
   "cell_type": "code",
   "execution_count": null,
   "metadata": {},
   "outputs": [],
   "source": []
  }
 ],
 "metadata": {
  "kernelspec": {
   "display_name": "Python 3",
   "language": "python",
   "name": "python3"
  },
  "language_info": {
   "codemirror_mode": {
    "name": "ipython",
    "version": 3
   },
   "file_extension": ".py",
   "mimetype": "text/x-python",
   "name": "python",
   "nbconvert_exporter": "python",
   "pygments_lexer": "ipython3",
   "version": "3.7.2"
  }
 },
 "nbformat": 4,
 "nbformat_minor": 2
}
