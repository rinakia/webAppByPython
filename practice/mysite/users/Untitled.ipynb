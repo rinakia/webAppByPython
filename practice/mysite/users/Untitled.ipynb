{
 "cells": [
  {
   "cell_type": "code",
   "execution_count": null,
   "metadata": {},
   "outputs": [],
   "source": []
  },
  {
   "cell_type": "code",
   "execution_count": 5,
   "metadata": {},
   "outputs": [
    {
     "name": "stdout",
     "output_type": "stream",
     "text": [
      "RESET DB END\n"
     ]
    }
   ],
   "source": [
    "\"\"\" ---------------------------------\n",
    "# \n",
    "#  reset DB\n",
    "# \n",
    "#  ver1. 19/08/22\n",
    "# \n",
    "#   ----------------------------------\n",
    "\"\"\" \n",
    "import datetime\n",
    "import TransactionManagerByPostgres as tmbp\n",
    "class ResetPostgresDB:\n",
    "    def resetAccount(self):\n",
    "        tm = tmbp.TransactionManagerByPostgres()\n",
    "        conn = tm.getConnection()\n",
    "        cur = conn.cursor()\n",
    "        cur.execute(\"DROP TABLE IF EXISTS account_date;\")\n",
    "        cur.execute(\"DROP TABLE IF EXISTS account;\")\n",
    "        cur.execute(\"CREATE TABLE account(num serial UNIQUE, id varchar(20) PRIMARY KEY,  name varchar(20) NOT NULL, password varchar(20) NOT NULL, auth INTEGER NOT NULL, gender INTEGER, mail varchar(100));\")\n",
    "        cur.execute(\"CREATE TABLE account_date(id varchar(20) REFERENCES account (id), regist_date date, renew_date date);\")\n",
    "        cur.execute(\"SELECT SETVAL('account_num_seq', 1000);\")\n",
    "        dt = datetime.date.today()\n",
    "        cur.execute(\"INSERT INTO account(id, name, password, auth) VALUES (%s, %s, %s, %s)\",(\"user1\",\"name1\", \"pass1\", 1))\n",
    "        cur.execute(\"INSERT INTO account_date(id, regist_date) VALUES (%s, %s)\",(\"user1\", dt)) #\n",
    "        cur.execute(\"INSERT INTO account(id, name, password, auth) VALUES (%s, %s, %s, %s)\",(\"user2\",\"name2\", \"pass2\", 2))\n",
    "        cur.execute(\"INSERT INTO account_date(id, regist_date) VALUES (%s, %s)\",(\"user2\", dt)) #\n",
    "        conn.commit()\n",
    "        cur.close()\n",
    "        conn.close()\n",
    "        print(\"RESET DB END\")\n",
    "resetDB = ResetPostgresDB()\n",
    "resetDB.resetAccount()"
   ]
  },
  {
   "cell_type": "code",
   "execution_count": null,
   "metadata": {},
   "outputs": [],
   "source": []
  },
  {
   "cell_type": "code",
   "execution_count": 1,
   "metadata": {},
   "outputs": [],
   "source": [
    "# transaction manager\n",
    "\n",
    "import TransactionManagerByPostgres as tmbp\n",
    "tm = tmbp.TransactionManagerByPostgres()\n",
    "conn = tm.getConnection()\n"
   ]
  },
  {
   "cell_type": "code",
   "execution_count": 3,
   "metadata": {},
   "outputs": [
    {
     "name": "stdout",
     "output_type": "stream",
     "text": [
      "num: 1\n",
      "id: id1\n",
      "name: smp1\n",
      "pass: pass1\n",
      "auth: 1\n",
      "gend: 1\n",
      "mail: mail\n",
      "pass1\n"
     ]
    }
   ],
   "source": [
    "#  userDTO\n",
    "\n",
    "import UserDTO as dto\n",
    "userDTO = dto.UserDTO()\n",
    "userDTO.setAll(1,\"id1\",\"smp1\",\"pass1\",1,1,\"mail\")\n",
    "userDTO.printUser()\n",
    "print(userDTO.getPass())"
   ]
  },
  {
   "cell_type": "code",
   "execution_count": 6,
   "metadata": {},
   "outputs": [
    {
     "ename": "ModuleNotFoundError",
     "evalue": "No module named 'users'",
     "output_type": "error",
     "traceback": [
      "\u001b[0;31m---------------------------------------------------------------------------\u001b[0m",
      "\u001b[0;31mModuleNotFoundError\u001b[0m                       Traceback (most recent call last)",
      "\u001b[0;32m<ipython-input-6-0ad90abe2d23>\u001b[0m in \u001b[0;36m<module>\u001b[0;34m\u001b[0m\n\u001b[1;32m      5\u001b[0m \u001b[0;31m#   ----------------------------------\u001b[0m\u001b[0;34m\u001b[0m\u001b[0;34m\u001b[0m\u001b[0;34m\u001b[0m\u001b[0m\n\u001b[1;32m      6\u001b[0m \"\"\" \n\u001b[0;32m----> 7\u001b[0;31m \u001b[0;32mimport\u001b[0m \u001b[0mUserDAO\u001b[0m \u001b[0;32mas\u001b[0m \u001b[0mdao\u001b[0m\u001b[0;34m\u001b[0m\u001b[0;34m\u001b[0m\u001b[0m\n\u001b[0m\u001b[1;32m      8\u001b[0m \u001b[0muserDAO\u001b[0m \u001b[0;34m=\u001b[0m \u001b[0mdao\u001b[0m\u001b[0;34m.\u001b[0m\u001b[0mUserDAO\u001b[0m\u001b[0;34m(\u001b[0m\u001b[0mconn\u001b[0m\u001b[0;34m)\u001b[0m\u001b[0;34m\u001b[0m\u001b[0;34m\u001b[0m\u001b[0m\n\u001b[1;32m      9\u001b[0m \u001b[0;31m# conn.close()\u001b[0m\u001b[0;34m\u001b[0m\u001b[0;34m\u001b[0m\u001b[0;34m\u001b[0m\u001b[0m\n",
      "\u001b[0;32m~/Documents/webAppByPython/practice/mysite/users/UserDAO.py\u001b[0m in \u001b[0;36m<module>\u001b[0;34m\u001b[0m\n\u001b[1;32m      6\u001b[0m \"\"\" \n\u001b[1;32m      7\u001b[0m \u001b[0;31m# from users import UserDTO as dto\u001b[0m\u001b[0;34m\u001b[0m\u001b[0;34m\u001b[0m\u001b[0;34m\u001b[0m\u001b[0m\n\u001b[0;32m----> 8\u001b[0;31m \u001b[0;32mfrom\u001b[0m \u001b[0musers\u001b[0m\u001b[0;34m.\u001b[0m\u001b[0mUserDTO\u001b[0m \u001b[0;32mimport\u001b[0m \u001b[0mUserDTO\u001b[0m \u001b[0;32mas\u001b[0m \u001b[0mdto\u001b[0m\u001b[0;34m\u001b[0m\u001b[0;34m\u001b[0m\u001b[0m\n\u001b[0m\u001b[1;32m      9\u001b[0m \u001b[0;32mimport\u001b[0m \u001b[0mdatetime\u001b[0m\u001b[0;34m\u001b[0m\u001b[0;34m\u001b[0m\u001b[0m\n\u001b[1;32m     10\u001b[0m \u001b[0;32mclass\u001b[0m \u001b[0mUserDAO\u001b[0m\u001b[0;34m:\u001b[0m\u001b[0;34m\u001b[0m\u001b[0;34m\u001b[0m\u001b[0m\n",
      "\u001b[0;31mModuleNotFoundError\u001b[0m: No module named 'users'"
     ]
    }
   ],
   "source": [
    "\"\"\" ---------------------------------\n",
    "# \n",
    "#  def\n",
    "# \n",
    "#   ----------------------------------\n",
    "\"\"\" \n",
    "import UserDAO as dao\n",
    "userDAO = dao.UserDAO(conn)\n",
    "# conn.close()\n",
    "\n",
    "# ユーザ全検索\n",
    "userDTOs = userDAO.getAll()\n",
    "# userDTOs[0].printUser()\n",
    "\n",
    "# ユーザID検索\n",
    "userId = \"test2\";\n",
    "userDTO = userDAO.getUserById(userId)\n",
    "# userDTO.printUser()\n",
    "\n",
    "# ユーザID登録\n",
    "import UserDTO as dto\n",
    "dto1 = dto.UserDTO()\n",
    "dto1.setAll(1003, \"test3\", \"smp1\",\"pass1\",1,1,\"aaa\")\n",
    "userDAO.addUserByDTO(dto1)\n"
   ]
  },
  {
   "cell_type": "code",
   "execution_count": null,
   "metadata": {},
   "outputs": [],
   "source": []
  },
  {
   "cell_type": "code",
   "execution_count": null,
   "metadata": {},
   "outputs": [],
   "source": []
  },
  {
   "cell_type": "code",
   "execution_count": null,
   "metadata": {},
   "outputs": [],
   "source": []
  },
  {
   "cell_type": "code",
   "execution_count": null,
   "metadata": {},
   "outputs": [],
   "source": []
  }
 ],
 "metadata": {
  "kernelspec": {
   "display_name": "Python 3",
   "language": "python",
   "name": "python3"
  },
  "language_info": {
   "codemirror_mode": {
    "name": "ipython",
    "version": 3
   },
   "file_extension": ".py",
   "mimetype": "text/x-python",
   "name": "python",
   "nbconvert_exporter": "python",
   "pygments_lexer": "ipython3",
   "version": "3.7.2"
  }
 },
 "nbformat": 4,
 "nbformat_minor": 2
}
