{
 "cells": [
  {
   "cell_type": "code",
   "execution_count": 6,
   "metadata": {},
   "outputs": [],
   "source": [
    "\"\"\" ---------------------------------\n",
    " \n",
    "  呼び出し練習用 class\n",
    " \n",
    "   ----------------------------------\n",
    "\"\"\" \n",
    "class SampleClass:\n",
    "    num1 = 0\n",
    "    str1 = \"\"\n",
    "    def __init__(self):\n",
    "        self.num1 = 10\n",
    "        self.str1 = \"abc\"\n",
    "        \n",
    "    def printNum(self):\n",
    "        print(self.num1)\n",
    "        \n",
    "    def printStr(self):\n",
    "        print(self.str1)"
   ]
  }
 ],
 "metadata": {
  "kernelspec": {
   "display_name": "Python 3",
   "language": "python",
   "name": "python3"
  },
  "language_info": {
   "codemirror_mode": {
    "name": "ipython",
    "version": 3
   },
   "file_extension": ".py",
   "mimetype": "text/x-python",
   "name": "python",
   "nbconvert_exporter": "python",
   "pygments_lexer": "ipython3",
   "version": "3.7.2"
  }
 },
 "nbformat": 4,
 "nbformat_minor": 2
}
