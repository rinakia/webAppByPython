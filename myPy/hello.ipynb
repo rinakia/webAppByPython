{
 "cells": [
  {
   "cell_type": "code",
   "execution_count": null,
   "metadata": {},
   "outputs": [],
   "source": [
    "\"\"\" ---------------------------------\n",
    " \n",
    "   Hello WorldのHttpレスポンスを返す\n",
    "   \n",
    "   https://qiita.com/podhmo/items/b6385fde9e32bbb8d57b\n",
    "\n",
    " \n",
    "    ----------------------------------\n",
    "\"\"\" \n",
    "# -*- coding:utf-8 -*-\n",
    "# hello.py\n",
    "\n",
    "import sys\n",
    "from django.conf.urls import url, patterns\n",
    "from django.http import HttpResponse\n",
    "\n",
    "\n",
    "def index(request):\n",
    "    import random\n",
    "    return HttpResponse('Hello World. random={}\\n'.format(random.random()))\n",
    "\n",
    "\n",
    "urlpatterns = patterns(\n",
    "    \"\",\n",
    "    url(r'^$', index),\n",
    ")\n",
    "\n",
    "\n",
    "if __name__ == \"__main__\":\n",
    "    from django.core.management import execute_from_command_line\n",
    "    from django.conf import settings\n",
    "\n",
    "    settings.configure(\n",
    "        ALLOWED_HOSTS=[\"*\"],\n",
    "        DEBUG=True,\n",
    "        ROOT_URLCONF=__name__,\n",
    "        MIDDLEWARE_CLASSES=(\n",
    "            'django.middleware.common.CommonMiddleware',\n",
    "        )\n",
    "    )\n",
    "    # using this via 'python server-example.py runserver'\n",
    "    execute_from_command_line(sys.argv)"
   ]
  }
 ],
 "metadata": {
  "kernelspec": {
   "display_name": "Python 3",
   "language": "python",
   "name": "python3"
  },
  "language_info": {
   "codemirror_mode": {
    "name": "ipython",
    "version": 3
   },
   "file_extension": ".py",
   "mimetype": "text/x-python",
   "name": "python",
   "nbconvert_exporter": "python",
   "pygments_lexer": "ipython3",
   "version": "3.7.2"
  }
 },
 "nbformat": 4,
 "nbformat_minor": 2
}
